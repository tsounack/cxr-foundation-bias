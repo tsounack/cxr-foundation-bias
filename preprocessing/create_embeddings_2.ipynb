{
 "cells": [
  {
   "cell_type": "code",
   "execution_count": 1,
   "metadata": {},
   "outputs": [],
   "source": [
    "import os\n",
    "import numpy as np\n",
    "from tqdm import tqdm\n",
    "import concurrent.futures"
   ]
  },
  {
   "cell_type": "code",
   "execution_count": 2,
   "metadata": {},
   "outputs": [],
   "source": [
    "npz_path = \"/data4/CheXpert/\"\n",
    "out_dir = '/data4/CheXpert/chexpert_embeddings'\n",
    "\n",
    "dict1 = np.load(npz_path + \"train.npz\")\n",
    "dict2 = np.load(npz_path + \"validation.npz\")"
   ]
  },
  {
   "cell_type": "code",
   "execution_count": 3,
   "metadata": {},
   "outputs": [
    {
     "name": "stdout",
     "output_type": "stream",
     "text": [
      "The first key is: CheXpert-v1.0/train/patient00001/study1/view1_frontal.jpg\n",
      "The corresponding value is: [-0.64997774 -2.12270832  0.84318995 ... -0.29365113  0.3868877\n",
      " -0.38179815]\n"
     ]
    }
   ],
   "source": [
    "first_key = next(iter(dict1))\n",
    "first_value = dict1[first_key]\n",
    "\n",
    "# Print the result\n",
    "print(f\"The first key is: {first_key}\")\n",
    "print(f\"The corresponding value is: {first_value}\")"
   ]
  },
  {
   "cell_type": "code",
   "execution_count": 8,
   "metadata": {},
   "outputs": [],
   "source": [
    "# Iterate over the first 5 elements of dict1\n",
    "for i, (key, value) in enumerate(dict1.items()):\n",
    "    if i >= 5:\n",
    "        break\n",
    "    split = key.split(\"/\")\n",
    "    preproc_filename = f\"{split[2]}_{split[3]}_{split[4].replace('.jpg', '.dat')}\"\n",
    "    out_path = os.path.join(out_dir, preproc_filename)\n",
    "    with open(out_path, \"wb\") as file:\n",
    "        file.write(value.tobytes())"
   ]
  },
  {
   "cell_type": "code",
   "execution_count": 15,
   "metadata": {},
   "outputs": [
    {
     "name": "stdout",
     "output_type": "stream",
     "text": [
      "[-0.64997774 -2.1227083   0.84318995 ... -0.29365113  0.3868877\n",
      " -0.38179815]\n"
     ]
    }
   ],
   "source": [
    "features = np.fromfile(\"/data4/CheXpert/chexpert_embeddings/patient00001_study1_view1_frontal.dat\").astype(np.float32)\n",
    "print(features)"
   ]
  },
  {
   "cell_type": "code",
   "execution_count": 14,
   "metadata": {},
   "outputs": [
    {
     "name": "stdout",
     "output_type": "stream",
     "text": [
      "/data4/CheXpert/chexpert_embeddings/patient00001_study1_view1_frontal.dat\n",
      "/data4/CheXpert/chexpert_embeddings/patient00002_study1_view1_frontal.dat\n",
      "/data4/CheXpert/chexpert_embeddings/patient00002_study1_view2_lateral.dat\n",
      "/data4/CheXpert/chexpert_embeddings/patient00002_study2_view1_frontal.dat\n",
      "/data4/CheXpert/chexpert_embeddings/patient00003_study1_view1_frontal.dat\n"
     ]
    }
   ],
   "source": [
    "with os.scandir(\"/data4/CheXpert/chexpert_embeddings\") as entries:\n",
    "    for i, entry in enumerate(entries):\n",
    "        if i >= 5:\n",
    "            break\n",
    "        print(entry.path)"
   ]
  },
  {
   "cell_type": "code",
   "execution_count": null,
   "metadata": {},
   "outputs": [],
   "source": []
  }
 ],
 "metadata": {
  "kernelspec": {
   "display_name": "Thomas",
   "language": "python",
   "name": "python3"
  },
  "language_info": {
   "codemirror_mode": {
    "name": "ipython",
    "version": 3
   },
   "file_extension": ".py",
   "mimetype": "text/x-python",
   "name": "python",
   "nbconvert_exporter": "python",
   "pygments_lexer": "ipython3",
   "version": "3.11.5"
  }
 },
 "nbformat": 4,
 "nbformat_minor": 2
}
