{
 "cells": [
  {
   "cell_type": "code",
   "execution_count": 1,
   "metadata": {},
   "outputs": [
    {
     "name": "stderr",
     "output_type": "stream",
     "text": [
      "2023-11-14 18:41:33.636073: I tensorflow/tsl/cuda/cudart_stub.cc:28] Could not find cuda drivers on your machine, GPU will not be used.\n",
      "2023-11-14 18:41:33.684855: E tensorflow/compiler/xla/stream_executor/cuda/cuda_dnn.cc:9342] Unable to register cuDNN factory: Attempting to register factory for plugin cuDNN when one has already been registered\n",
      "2023-11-14 18:41:33.684879: E tensorflow/compiler/xla/stream_executor/cuda/cuda_fft.cc:609] Unable to register cuFFT factory: Attempting to register factory for plugin cuFFT when one has already been registered\n",
      "2023-11-14 18:41:33.684909: E tensorflow/compiler/xla/stream_executor/cuda/cuda_blas.cc:1518] Unable to register cuBLAS factory: Attempting to register factory for plugin cuBLAS when one has already been registered\n",
      "2023-11-14 18:41:33.692203: I tensorflow/tsl/cuda/cudart_stub.cc:28] Could not find cuda drivers on your machine, GPU will not be used.\n",
      "2023-11-14 18:41:33.692629: I tensorflow/core/platform/cpu_feature_guard.cc:182] This TensorFlow binary is optimized to use available CPU instructions in performance-critical operations.\n",
      "To enable the following instructions: AVX2 AVX512F FMA, in other operations, rebuild TensorFlow with the appropriate compiler flags.\n",
      "2023-11-14 18:41:34.938868: W tensorflow/compiler/tf2tensorrt/utils/py_utils.cc:38] TF-TRT Warning: Could not find TensorRT\n"
     ]
    }
   ],
   "source": [
    "from cxr_foundation.inference import generate_embeddings, InputFileType, OutputFileType, ModelVersion\n",
    "import os\n",
    "import pandas as pd\n",
    "import numpy as np\n",
    "import matplotlib.pyplot as plt\n",
    "import seaborn as sns\n",
    "from tqdm import tqdm\n",
    "import logging\n",
    "from PIL import Image"
   ]
  },
  {
   "cell_type": "code",
   "execution_count": 6,
   "metadata": {},
   "outputs": [
    {
     "name": "stderr",
     "output_type": "stream",
     "text": [
      "Processing Images:   0%|          | 0/127118 [00:00<?, ?image/s]/tmp/ipykernel_33641/3980639581.py:9: DeprecationWarning: Starting with ImageIO v3 the behavior of this function will switch to that of iio.v3.imread. To keep the current behavior (and make this warning disappear) use `import imageio.v2 as imageio` or call `imageio.v2.imread` directly.\n",
      "  image_data = imread(image_path)\n",
      "Processing Images: 100%|██████████| 127118/127118 [06:22<00:00, 332.57image/s]"
     ]
    },
    {
     "name": "stdout",
     "output_type": "stream",
     "text": [
      "Failed to open the following images:\n",
      "84\n"
     ]
    },
    {
     "name": "stderr",
     "output_type": "stream",
     "text": [
      "\n"
     ]
    }
   ],
   "source": [
    "import os\n",
    "from imageio import imread\n",
    "import numpy as np\n",
    "from tqdm import tqdm\n",
    "\n",
    "def open_image_with_imopen(image_path):\n",
    "    try:\n",
    "        # Open the image using imopen\n",
    "        image_data = imread(image_path)\n",
    "\n",
    "        # Convert image to NumPy array if needed\n",
    "        if isinstance(image_data, np.ndarray):\n",
    "            return image_data.astype(np.float32)\n",
    "        else:\n",
    "            return None\n",
    "    except Exception as e:\n",
    "        return None\n",
    "\n",
    "def process_images(directory):\n",
    "    # List to store paths of images that couldn't be opened\n",
    "    failed_images = []\n",
    "\n",
    "    # Get the list of image files\n",
    "    image_files = [filename for filename in os.listdir(directory) if filename.endswith(('.jpg', '.jpeg', '.png'))]\n",
    "\n",
    "    # Iterate through files with tqdm for a progress bar\n",
    "    for filename in tqdm(image_files, desc=\"Processing Images\", unit=\"image\"):\n",
    "        image_path = os.path.join(directory, filename)\n",
    "\n",
    "        # Try opening the image with imopen\n",
    "        if open_image_with_imopen(image_path) is None:\n",
    "            failed_images.append(image_path)\n",
    "\n",
    "    return failed_images\n",
    "\n",
    "# Example usage\n",
    "directory_path = \"/data4/CheXpert/preproc_224x224\"\n",
    "failed_image_paths = process_images(directory_path)\n",
    "\n",
    "if not failed_image_paths:\n",
    "    print(\"All images were successfully opened.\")\n",
    "else:\n",
    "    print(\"Failed to open the following images:\")\n",
    "    print(len(failed_image_paths))\n"
   ]
  },
  {
   "cell_type": "code",
   "execution_count": 7,
   "metadata": {},
   "outputs": [
    {
     "data": {
      "text/plain": [
       "84"
      ]
     },
     "execution_count": 7,
     "metadata": {},
     "output_type": "execute_result"
    }
   ],
   "source": [
    "len(failed_image_paths)"
   ]
  },
  {
   "cell_type": "code",
   "execution_count": 8,
   "metadata": {},
   "outputs": [
    {
     "name": "stdout",
     "output_type": "stream",
     "text": [
      "Failed image paths exported to failed_images.txt.\n"
     ]
    }
   ],
   "source": [
    "def export_to_file(file_path, data):\n",
    "    with open(file_path, 'w') as file:\n",
    "        for item in data:\n",
    "            file.write(\"%s\\n\" % item)\n",
    "\n",
    "export_file_path = \"failed_images.txt\"\n",
    "export_to_file(export_file_path, failed_image_paths)\n",
    "print(f\"Failed image paths exported to {export_file_path}.\")"
   ]
  },
  {
   "cell_type": "code",
   "execution_count": 2,
   "metadata": {},
   "outputs": [],
   "source": [
    "EMBEDDINGS_DIR = \"/data4/CheXpert/chexpert_embedding_normal\"\n",
    "MODEL_VERSION = ModelVersion.V1\n",
    "data_dir = '../datafiles/chexpert/'\n",
    "img_data_dir = '/data4/CheXpert/'"
   ]
  },
  {
   "cell_type": "code",
   "execution_count": 3,
   "metadata": {},
   "outputs": [],
   "source": [
    "df_test = pd.read_csv(os.path.join(data_dir, 'train.csv'))\n",
    "df_test['Path'] = df_test['Path'].apply(lambda x: img_data_dir + x)"
   ]
  },
  {
   "cell_type": "code",
   "execution_count": 4,
   "metadata": {},
   "outputs": [
    {
     "name": "stdout",
     "output_type": "stream",
     "text": [
      "(2828, 2320)\n"
     ]
    }
   ],
   "source": [
    "first_image = Image.open(df_test.iloc[2, 0])\n",
    "print(first_image.size)"
   ]
  },
  {
   "cell_type": "code",
   "execution_count": 5,
   "metadata": {},
   "outputs": [],
   "source": [
    "df_img_data = pd.read_csv(data_dir + 'chexpert.sample.csv')\n",
    "df_img_data['path_preproc'] = df_img_data['path_preproc'].apply(lambda x: img_data_dir + x)"
   ]
  },
  {
   "cell_type": "code",
   "execution_count": 6,
   "metadata": {},
   "outputs": [],
   "source": [
    "import logging\n",
    "logging.getLogger('google.auth._default').setLevel(logging.ERROR)"
   ]
  },
  {
   "cell_type": "code",
   "execution_count": 8,
   "metadata": {},
   "outputs": [],
   "source": [
    "generate_embeddings(input_files=df_img_data[\"path_preproc\"].values, output_dir=EMBEDDINGS_DIR,\n",
    "    input_type=InputFileType.PNG, output_type=OutputFileType.NPZ, model_version=MODEL_VERSION)"
   ]
  },
  {
   "cell_type": "code",
   "execution_count": 9,
   "metadata": {},
   "outputs": [
    {
     "data": {
      "text/plain": [
       "array(['/data4/CheXpert/CheXpert-v1.0/train/patient00002/study2/view1_frontal.jpg',\n",
       "       '/data4/CheXpert/CheXpert-v1.0/train/patient00002/study1/view1_frontal.jpg',\n",
       "       '/data4/CheXpert/CheXpert-v1.0/train/patient00003/study1/view1_frontal.jpg',\n",
       "       '/data4/CheXpert/CheXpert-v1.0/train/patient00004/study1/view1_frontal.jpg',\n",
       "       '/data4/CheXpert/CheXpert-v1.0/train/patient00005/study1/view1_frontal.jpg'],\n",
       "      dtype=object)"
      ]
     },
     "execution_count": 9,
     "metadata": {},
     "output_type": "execute_result"
    }
   ],
   "source": [
    "df_img_data[\"Path\"].values[:5]"
   ]
  },
  {
   "cell_type": "code",
   "execution_count": 5,
   "metadata": {},
   "outputs": [],
   "source": [
    "first_image = Image.open(df_img_data.iloc[0, 0])\n",
    "first_image.save('test.png', format='PNG')"
   ]
  },
  {
   "cell_type": "code",
   "execution_count": 6,
   "metadata": {},
   "outputs": [],
   "source": [
    "df = pd.DataFrame({'Path': ['test.png']})"
   ]
  },
  {
   "cell_type": "code",
   "execution_count": 7,
   "metadata": {},
   "outputs": [
    {
     "name": "stderr",
     "output_type": "stream",
     "text": [
      "/home/tsounack/miniconda3/envs/chexploration/lib/python3.11/site-packages/google/auth/_default.py:76: UserWarning: Your application has authenticated using end user credentials from Google Cloud SDK without a quota project. You might receive a \"quota exceeded\" or \"API not enabled\" error. See the following page for troubleshooting: https://cloud.google.com/docs/authentication/adc-troubleshooting/user-creds. \n",
      "  warnings.warn(_CLOUD_SDK_CREDENTIALS_WARNING)\n",
      "INFO:root:Successfully generated '/data4/CheXpert/chexpert_embedding_normal/test.npz'\n"
     ]
    }
   ],
   "source": [
    "logger = logging.getLogger()\n",
    "logger.setLevel(logging.INFO)\n",
    "\n",
    "# Generate and store a few embeddings in .npz format\n",
    "generate_embeddings(input_files=df[\"Path\"].values, output_dir=EMBEDDINGS_DIR,\n",
    "    input_type=InputFileType.PNG, output_type=OutputFileType.NPZ, model_version=MODEL_VERSION)"
   ]
  },
  {
   "cell_type": "code",
   "execution_count": null,
   "metadata": {},
   "outputs": [],
   "source": []
  }
 ],
 "metadata": {
  "kernelspec": {
   "display_name": "chexploration",
   "language": "python",
   "name": "python3"
  },
  "language_info": {
   "codemirror_mode": {
    "name": "ipython",
    "version": 3
   },
   "file_extension": ".py",
   "mimetype": "text/x-python",
   "name": "python",
   "nbconvert_exporter": "python",
   "pygments_lexer": "ipython3",
   "version": "3.11.5"
  }
 },
 "nbformat": 4,
 "nbformat_minor": 2
}
